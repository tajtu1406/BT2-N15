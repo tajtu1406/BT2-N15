{
  "nbformat": 4,
  "nbformat_minor": 0,
  "metadata": {
    "colab": {
      "name": "Speech.ipynb",
      "provenance": [],
      "collapsed_sections": [],
      "include_colab_link": true
    },
    "kernelspec": {
      "name": "python3",
      "display_name": "Python 3"
    },
    "language_info": {
      "name": "python"
    }
  },
  "cells": [
    {
      "cell_type": "markdown",
      "metadata": {
        "id": "view-in-github",
        "colab_type": "text"
      },
      "source": [
        "<a href=\"https://colab.research.google.com/github/tajtu1406/BT2-N15/blob/master/Speech.ipynb\" target=\"_parent\"><img src=\"https://colab.research.google.com/assets/colab-badge.svg\" alt=\"Open In Colab\"/></a>"
      ]
    },
    {
      "cell_type": "code",
      "source": [
        "from google.colab import drive\n",
        "drive.mount('/content/drive')"
      ],
      "metadata": {
        "colab": {
          "base_uri": "https://localhost:8080/"
        },
        "id": "THddvXiv1fPa",
        "outputId": "59a18e5c-ce1f-451a-81a9-cfa0dab08bcf"
      },
      "execution_count": 1,
      "outputs": [
        {
          "output_type": "stream",
          "name": "stdout",
          "text": [
            "Mounted at /content/drive\n"
          ]
        }
      ]
    },
    {
      "cell_type": "code",
      "source": [
        "import librosa, librosa.display\n",
        "import matplotlib.pyplot as plt\n",
        "import numpy as np\n",
        "import IPython.display as idsp"
      ],
      "metadata": {
        "id": "kImgDY5J8v_t"
      },
      "execution_count": 26,
      "outputs": []
    },
    {
      "cell_type": "markdown",
      "source": [
        "# MFCC Feature calculation"
      ],
      "metadata": {
        "id": "-xwOI1pSgqiq"
      }
    },
    {
      "cell_type": "code",
      "source": [
        "import os\n",
        "import numpy as np\n",
        "import librosa\n",
        "\n",
        "\n",
        "def mfcc(audio_path):\n",
        "    y, sr = librosa.load(audio_path)\n",
        "    # MFCCs\n",
        "    mfccs = librosa.feature.mfcc(y = y, sr = sr, n_mfcc = 13)\n",
        "    ans = [mfccs]\n",
        "    # Compute the first MFCCs derivatives\n",
        "    delta_mfccs = librosa.feature.delta(mfccs, order = 1, mode ='nearest')\n",
        "    ans.append(delta_mfccs)\n",
        "    # Compute the second MFCCs derivatives\n",
        "    delta2_mfccs = librosa.feature.delta(mfccs, order = 2, mode ='nearest')\n",
        "    ans.append(delta2_mfccs) \n",
        "    return np.transpose(np.concatenate(ans, axis = 0),[1,0])"
      ],
      "metadata": {
        "id": "HjraNOcydqZj"
      },
      "execution_count": 27,
      "outputs": []
    },
    {
      "cell_type": "markdown",
      "source": [
        "# DTW Implementation \n",
        "### Averaging trains template"
      ],
      "metadata": {
        "id": "AAQ9xKVjgvd5"
      }
    },
    {
      "cell_type": "code",
      "execution_count": 4,
      "metadata": {
        "id": "OlclF0YWdHpY"
      },
      "outputs": [],
      "source": [
        "from math import sqrt\n",
        "\n",
        "def calculate_Euclid_distance(A, B):\n",
        "    return sqrt(sum([(a - b) ** 2 for (a, b) in zip(A, B)]))\n",
        "\n",
        "\n",
        "def dtw(M1, M2):\n",
        "    # length of two sequences\n",
        "    M1_len = len(M1)\n",
        "    M2_len = len(M2)\n",
        "    cost_0 = np.zeros((M1_len + 1, M2_len + 1))\n",
        "    cost_0[0, 1:] = np.inf\n",
        "    cost_0[1:, 0] = np.inf\n",
        "    # Initialize the array size to M1_len * M2_len\n",
        "    cost = cost_0[1:, 1:]\n",
        "    for i in range(M1_len):\n",
        "        for j in range(M2_len):\n",
        "            cost[i, j] = calculate_Euclid_distance(M1[i], M2[j])\n",
        "    # DP to calculate cost matrix\n",
        "    for i in range(M1_len):\n",
        "        for j in range(M2_len):\n",
        "            cost[i, j] += min([cost_0[i, j], \\\n",
        "                               cost_0[min(i + 1, M1_len - 1), j], \\\n",
        "                               cost_0[i, min(j + 1, M2_len - 1)]])\n",
        "\n",
        "    # calculate the warp path\n",
        "    if len(M1) == 1:\n",
        "        path = np.zeros(len(M2)), range(len(M2))\n",
        "    elif len(M2) == 1:\n",
        "        path = range(len(M1)), np.zeros(len(M1))\n",
        "    else:\n",
        "        i, j = np.array(cost_0.shape) - 2\n",
        "        path_1, path_2 = [i], [j]\n",
        "        while (i > 0) or (j > 0):\n",
        "            arg_min = np.argmin((cost_0[i, j], cost_0[i, j + 1], cost_0[i + 1, j]))\n",
        "            if arg_min == 0:\n",
        "                i -= 1\n",
        "                j -= 1\n",
        "            elif arg_min == 1:\n",
        "                i -= 1\n",
        "            else:\n",
        "                j -= 1\n",
        "            path_1.insert(0, i)\n",
        "            path_2.insert(0, j)\n",
        "        path = np.array(path_1), np.array(path_2)\n",
        "    # the minimum distance is the normalized distance\n",
        "    return cost[-1, -1] / sum(cost.shape), path\n",
        "\n",
        "\n",
        "def train_model_dtw(train_dir):\n",
        "    model = []\n",
        "    for label in [\"len\", \"xuong\", \"trai\", \"phai\", \"a\", \"b\", \"nhay\", \"ban\"]:\n",
        "        label_dir = os.path.join(train_dir, str(label))\n",
        "        file_list = os.listdir(label_dir)\n",
        "        mfcc_list = []\n",
        "\n",
        "        # read input files and calculate MFCC features\n",
        "        for j in range(len(file_list)):\n",
        "            file_path = os.path.join(label_dir, file_list[j])\n",
        "            if file_path[-4:] == \".wav\":\n",
        "              file_mfcc = mfcc(file_path)\n",
        "              mfcc_list.append(file_mfcc)\n",
        "\n",
        "        # set the first sequence as master\n",
        "        mfcc_count = np.zeros(len(mfcc_list[0]))\n",
        "        mfcc_all = np.zeros(mfcc_list[0].shape)\n",
        "        for i in range(len(mfcc_list)):\n",
        "            # calculate the wrap path between master and each template\n",
        "            _, path = dtw(mfcc_list[0], mfcc_list[i])\n",
        "            for j in range(len(path[0])):\n",
        "                mfcc_count[int(path[0][j])] += 1\n",
        "                mfcc_all[int(path[0][j])] += mfcc_list[i][path[1][j]]\n",
        "\n",
        "        # Generalization by averaging the templates\n",
        "        final_mfcc = np.zeros(mfcc_all.shape)\n",
        "        for i in range(len(mfcc_count)):\n",
        "            for j in range(len(mfcc_all[i])):\n",
        "                final_mfcc[i][j] = mfcc_all[i][j] / mfcc_count[i]\n",
        "        model.append(final_mfcc)\n",
        "    return model\n",
        "\n",
        "\n",
        "def predict_dtw(model, file_path):\n",
        "    mfcc_feat = mfcc(file_path)\n",
        "    result = 0\n",
        "    min_dist, _ = dtw(model[0], mfcc_feat)\n",
        "    label = [\"len\", \"xuong\", \"trai\", \"phai\", \"a\", \"b\", \"nhay\", \"ban\"]\n",
        "    for i in range(len(model)):\n",
        "        dist, _ = dtw(model[i], mfcc_feat)\n",
        "        if dist < min_dist:\n",
        "            result = i\n",
        "            min_dist = dist\n",
        "    return label[result]"
      ]
    },
    {
      "cell_type": "code",
      "source": [
        "train_dir = \"/content/drive/MyDrive/15 (nhóm có stt 14 trong danh sách)/trainDTW\"\n",
        "\n",
        "model = train_model_dtw(train_dir)"
      ],
      "metadata": {
        "id": "oktQYGVXfkOw"
      },
      "execution_count": 28,
      "outputs": []
    },
    {
      "cell_type": "code",
      "source": [
        "pred_dir = \"/content/drive/MyDrive/15 (nhóm có stt 14 trong danh sách)/test/file128.wav\"\n",
        "sound, sr = librosa.load(pred_dir)\n",
        "\n",
        "pred = predict_dtw(model, pred_dir)\n",
        "print(pred)\n",
        "idsp.Audio(data=sound, rate=sr)"
      ],
      "metadata": {
        "id": "6-LuwPJ2gTM6",
        "colab": {
          "base_uri": "https://localhost:8080/",
          "height": 93
        },
        "outputId": "356a5458-a2d6-4cec-e455-2d3a3660044b"
      },
      "execution_count": 29,
      "outputs": [
        {
          "output_type": "stream",
          "name": "stdout",
          "text": [
            "nhay\n"
          ]
        },
        {
          "output_type": "execute_result",
          "data": {
            "text/plain": [
              "<IPython.lib.display.Audio object>"
            ],
            "text/html": [
              "\n",
              "                <audio controls=\"controls\" >\n",
              "                    <source src=\"data:audio/wav;base64,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\" type=\"audio/wav\" />\n",
              "                    Your browser does not support the audio element.\n",
              "                </audio>\n",
              "              "
            ]
          },
          "metadata": {},
          "execution_count": 29
        }
      ]
    },
    {
      "cell_type": "markdown",
      "source": [
        "# HMM"
      ],
      "metadata": {
        "id": "FbaoveLtg_NW"
      }
    },
    {
      "cell_type": "code",
      "source": [
        "!pip install hmmlearn"
      ],
      "metadata": {
        "id": "ALJFuTtY8dFh"
      },
      "execution_count": null,
      "outputs": []
    },
    {
      "cell_type": "code",
      "source": [
        "from hmmlearn import hmm\n",
        "import numpy as np\n",
        "\n",
        "def train_model_hmm(train_dir):\n",
        "    hmm_models = []\n",
        "    # iterate through train dir\n",
        "    for label in os.listdir(train_dir):\n",
        "        label_dir = os.path.join(train_dir, label)\n",
        "        \n",
        "        # start training\n",
        "        X = np.array([])\n",
        "        train_files = [x for x in os.listdir(label_dir) if x.endswith('.wav')]\n",
        "        for file_name in train_files:\n",
        "            file_path = os.path.join(label_dir, file_name)\n",
        "            print(label, file_path)\n",
        "            try:\n",
        "              features_mfcc = mfcc(file_path)\n",
        "            \n",
        "              # append mfcc to X\n",
        "              if len(X) == 0:\n",
        "                  X = features_mfcc\n",
        "              else:\n",
        "                  X = np.append(X, features_mfcc, axis=0)\n",
        "            except:\n",
        "              continue\n",
        "              \n",
        "        # HMM with Mixture of Gaussians\n",
        "        model = hmm.GMMHMM(n_components=4, n_iter=1000)\n",
        "\n",
        "        # fit model\n",
        "        np.seterr(all='ignore')\n",
        "        model.fit(X)\n",
        "        hmm_models.append((model, label))\n",
        "    return hmm_models\n",
        "\n",
        "\n",
        "def predict_hmm(hmm_models, test_file):\n",
        "    # get mfcc features\n",
        "    features_mfcc = mfcc(test_file)\n",
        "\n",
        "    # calculate the score and get the maximum score\n",
        "    max_score = -float('inf')\n",
        "    result = \"\"\n",
        "    for item in hmm_models:\n",
        "        model, label = item\n",
        "        score = model.score(features_mfcc)\n",
        "        if score > max_score:\n",
        "            max_score = score\n",
        "            result = label\n",
        "    return result\n",
        "    "
      ],
      "metadata": {
        "id": "ydoNRxRNgmy2"
      },
      "execution_count": 11,
      "outputs": []
    },
    {
      "cell_type": "code",
      "source": [
        "train_path = \"/content/drive/MyDrive/15 (nhóm có stt 14 trong danh sách)/train\"\n",
        "hmm_models = train_model_hmm(train_path)"
      ],
      "metadata": {
        "id": "nO1Cdc4ogmw3"
      },
      "execution_count": null,
      "outputs": []
    },
    {
      "cell_type": "code",
      "source": [
        "pred_dir = \"/content/drive/MyDrive/15 (nhóm có stt 14 trong danh sách)/test/file128.wav\"\n",
        "sound, sr = librosa.load(pred_dir)\n",
        "pred = predict_hmm(hmm_models, pred_dir)\n",
        "print(pred)\n",
        "idsp.Audio(data=sound, rate=sr)"
      ],
      "metadata": {
        "id": "7GAAaIIogmsh",
        "colab": {
          "base_uri": "https://localhost:8080/",
          "height": 93
        },
        "outputId": "619f9acd-c1ba-454b-ac9c-35f48daacc7c"
      },
      "execution_count": 30,
      "outputs": [
        {
          "output_type": "stream",
          "name": "stdout",
          "text": [
            "nhay\n"
          ]
        },
        {
          "output_type": "execute_result",
          "data": {
            "text/plain": [
              "<IPython.lib.display.Audio object>"
            ],
            "text/html": [
              "\n",
              "                <audio controls=\"controls\" >\n",
              "                    <source src=\"data:audio/wav;base64,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\" type=\"audio/wav\" />\n",
              "                    Your browser does not support the audio element.\n",
              "                </audio>\n",
              "              "
            ]
          },
          "metadata": {},
          "execution_count": 30
        }
      ]
    }
  ]
}